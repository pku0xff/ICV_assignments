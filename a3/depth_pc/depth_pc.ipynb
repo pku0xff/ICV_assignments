{
 "cells": [
  {
   "cell_type": "code",
   "execution_count": 1,
   "metadata": {},
   "outputs": [],
   "source": [
    "import numpy as np\n",
    "import cv2"
   ]
  },
  {
   "cell_type": "code",
   "execution_count": 2,
   "metadata": {
    "scrolled": true
   },
   "outputs": [
    {
     "name": "stdout",
     "output_type": "stream",
     "text": [
      "[[415.69219382   0.         320.        ]\n",
      " [  0.         415.69219382 240.        ]\n",
      " [  0.           0.           1.        ]]\n"
     ]
    }
   ],
   "source": [
    "# read depth image\n",
    "depth_scale = 0.00012498664727900177\n",
    "depth_img = cv2.imread('depth.png') # cv2.imread 得到 BGR 图像\n",
    "dpt = depth_img[:, :, 2] + depth_img[:, :, 1] * 256\n",
    "dpt = dpt * depth_scale # (480, 640)\n",
    "\n",
    "# read seg image\n",
    "seg = cv2.imread('seg.png')[...,0]  # 255: fore ground, 0: background\n",
    "# (480, 640)\n",
    "\n",
    "# read intrinsics and extrinsics\n",
    "K = np.load('intrinsic.npy')\n",
    "print(K)"
   ]
  },
  {
   "cell_type": "code",
   "execution_count": 3,
   "metadata": {},
   "outputs": [],
   "source": [
    "# task1: convert depth image to point cloud\n",
    "# 利用 intrinsics & extrinsics 从二维图像重建3d坐标，再根据 depth 进行调整\n",
    "def depth2pc(depth, seg, K):\n",
    "    H, W = dpt.shape\n",
    "    y = np.tile(np.arange(H).reshape(-1, 1), W).reshape(H, W, 1)\n",
    "    x = np.tile(np.arange(W), (H, 1)).reshape(H, W, 1)\n",
    "    ones = np.ones((H, W, 1))\n",
    "    img = np.concatenate((x, y, ones), axis=-1)\n",
    "    img = img[np.where(seg>0)]\n",
    "    depth = depth[np.where(seg>0)].reshape(-1, 1)\n",
    "    pc = np.linalg.inv(K).dot(img.T).T\n",
    "    pc = pc*depth\n",
    "    return pc\n",
    "\n",
    "partial_pc = depth2pc(dpt, seg, K)\n",
    "\n",
    "# For debug and submission\n",
    "np.savetxt('../results/pc_from_depth.txt', partial_pc)"
   ]
  },
  {
   "cell_type": "code",
   "execution_count": 4,
   "metadata": {},
   "outputs": [
    {
     "name": "stdout",
     "output_type": "stream",
     "text": [
      "one way chamfer distance:  0.009852734259849272\n"
     ]
    }
   ],
   "source": [
    "# task2: compute one-way chamfer distance to the complete shape\n",
    "# Note that 'full_pc.txt' is the point cloud sampled from the mesh before rendering to depth image. \n",
    "# Since the default direction of the camera in PyRender is (0,0,-1), you may find the results of your back projection is not aligned with 'full_pc.txt'.\n",
    "# To avoid confusion, we provide 'aligned_full_pc.txt', which should be aligned with your resulted point cloud.\n",
    "full_pc = np.loadtxt('aligned_full_pc.txt')\n",
    "\n",
    "def random_sample(pc, num):\n",
    "    permu = np.random.permutation(pc.shape[0])\n",
    "    return pc[permu][:num]\n",
    "\n",
    "partial_pc_sampled = random_sample(partial_pc, 2048) # (2048,3)\n",
    "full_pc_sampled = random_sample(full_pc, 2048)\n",
    "\n",
    "\n",
    "# 先每个点之间两两计算距离，组成2048*2048矩阵\n",
    "P = np.tile(partial_pc_sampled.reshape(2048, 1, 3), (1, 2048, 1))\n",
    "F = np.tile(full_pc_sampled.reshape(1, 2048, 3), (2048, 1, 1))\n",
    "dist = np.apply_along_axis(np.linalg.norm, 2, P-F)\n",
    "one_way_CD = np.sum(np.min(dist, axis=1)) / 2048\n",
    "\n",
    "print('one way chamfer distance: ', one_way_CD)"
   ]
  },
  {
   "cell_type": "code",
   "execution_count": 5,
   "metadata": {},
   "outputs": [],
   "source": [
    "# For submission\n",
    "np.savetxt('../results/one_way_CD.txt', one_way_CD.reshape(1))"
   ]
  },
  {
   "cell_type": "code",
   "execution_count": null,
   "metadata": {},
   "outputs": [],
   "source": []
  }
 ],
 "metadata": {
  "interpreter": {
   "hash": "b4ffbbff3239a731f5036eedf271342b6e0256ecf54d21a0ffa848ef6f1f16b8"
  },
  "kernelspec": {
   "display_name": "Python 3 (ipykernel)",
   "language": "python",
   "name": "python3"
  },
  "language_info": {
   "codemirror_mode": {
    "name": "ipython",
    "version": 3
   },
   "file_extension": ".py",
   "mimetype": "text/x-python",
   "name": "python",
   "nbconvert_exporter": "python",
   "pygments_lexer": "ipython3",
   "version": "3.7.12"
  }
 },
 "nbformat": 4,
 "nbformat_minor": 2
}
