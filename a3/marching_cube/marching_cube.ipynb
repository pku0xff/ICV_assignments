{
 "cells": [
  {
   "cell_type": "code",
   "execution_count": 1,
   "metadata": {},
   "outputs": [],
   "source": [
    "import numpy as np\n",
    "from lookup_table import CaseNum2EdgeOffset, getCaseNum\n",
    "import trimesh\n",
    "import os\n",
    "import time"
   ]
  },
  {
   "cell_type": "code",
   "execution_count": 2,
   "metadata": {},
   "outputs": [],
   "source": [
    "def marching_cube(thres,cells):\n",
    "    '''\n",
    "    cells: (64, 64, 64)\n",
    "    '''\n",
    "    # vertices use dictionary to avoid duplicate axes\n",
    "    vertex_array = {}\n",
    "    face_array = []\n",
    "    t1 = time.time()\n",
    "    # -------------------TODO------------------ \n",
    "    # compute vertices and faces\n",
    "    # vertices: [N, 3]\n",
    "    # faces: [M, 3], e.g. np.array([[0,1,2]]) means a triangle composed of vertices[0], vertices[1] and vertices[2]\n",
    "    # for-loop is allowed to reduce difficulty\n",
    "    # -------------------TODO------------------ \n",
    "    # 为了使索引值对应，建立edge->index->vertex的映射\n",
    "    edge2ind = {}\n",
    "    H,W,D = cells.shape\n",
    "    cnt = 0\n",
    "    tmp = [] # Use every three consecutive interaction points to form a face.\n",
    "    for x in range(H-1):\n",
    "        for y in range(W-1):\n",
    "            for z in range(D-1):\n",
    "                # 1. Use \"getCaseNum(x,y,z,thre,cells)\" to get a list of case values for this cell.\n",
    "                case_nums = getCaseNum(x,y,z,thres,cells)\n",
    "                for case_num in case_nums:\n",
    "                    # 2. For each case value \"case_num\", use \"CaseNum2EdgeOffset[case_num]\" \n",
    "                    # to get an edge of this cell which interacts with the iso-surface.\n",
    "                    if case_num < 0:\n",
    "                        break\n",
    "                    offset = CaseNum2EdgeOffset[case_num]\n",
    "                    corner1 = (x+offset[0],y+offset[1],z+offset[2])\n",
    "                    corner2 = (x+offset[3],y+offset[4],z+offset[5])\n",
    "                    if corner1[0]>corner2[0] or corner1[1]>corner2[1] or corner1[2]>corner2[2]:\n",
    "                        corner1,corner2 = corner2,corner1\n",
    "                    # 3. Use linear interpolation to find the interaction point \"(xp,yp,zp)\"\n",
    "                    if (corner1,corner2) not in edge2ind.keys():\n",
    "                        edge2ind[(corner1,corner2)] = cnt\n",
    "                        v1 = np.abs(cells[corner1])\n",
    "                        v2 = np.abs(cells[corner2])\n",
    "                        vertex = np.array(corner1)*(v2/(v1+v2)) + np.array(corner2)*(v1/(v1+v2))\n",
    "                        vertex_array[cnt] = vertex\n",
    "                        cnt += 1\n",
    "                    tmp.append(edge2ind[(corner1,corner2)])\n",
    "                    if len(tmp)==3:\n",
    "                        face_array.append(tmp)\n",
    "                        tmp = []\n",
    "    \n",
    "    t2 = time.time()\n",
    "    print(\"\\nTime taken by algorithm\\n\"+'-'*40+\"\\n{} s\".format(t2-t1))\n",
    "    #vertex_array = list(vertex_array.values())\n",
    "    vertex_array = [vertex_array[i] for i in range(cnt)]\n",
    "    return np.array(vertex_array), np.array(face_array)"
   ]
  },
  {
   "cell_type": "code",
   "execution_count": 3,
   "metadata": {},
   "outputs": [
    {
     "name": "stdout",
     "output_type": "stream",
     "text": [
      "\n",
      "Time taken by algorithm\n",
      "----------------------------------------\n",
      "7.516629934310913 s\n",
      "\n",
      "Time taken by algorithm\n",
      "----------------------------------------\n",
      "7.796140432357788 s\n"
     ]
    }
   ],
   "source": [
    "# reconstruct these two animals\n",
    "shape_name_lst = ['spot', 'bob']\n",
    "for shape_name in shape_name_lst:\n",
    "    data = np.load(os.path.join('data', shape_name + '_cell.npy'))\n",
    "    verts, faces = marching_cube(0, data)\n",
    "    mesh = trimesh.Trimesh(vertices=verts, faces=faces)\n",
    "    mesh_txt = trimesh.exchange.obj.export_obj(mesh)\n",
    "    with open(os.path.join('../results', shape_name + '.obj'),\"w\") as fp:\n",
    "        fp.write(mesh_txt)"
   ]
  },
  {
   "cell_type": "code",
   "execution_count": null,
   "metadata": {},
   "outputs": [],
   "source": []
  }
 ],
 "metadata": {
  "interpreter": {
   "hash": "436b5965732ccf282764bcf9546f770885eff9f048ad24ec0c34e8c61e883580"
  },
  "kernelspec": {
   "display_name": "Python 3 (ipykernel)",
   "language": "python",
   "name": "python3"
  },
  "language_info": {
   "codemirror_mode": {
    "name": "ipython",
    "version": 3
   },
   "file_extension": ".py",
   "mimetype": "text/x-python",
   "name": "python",
   "nbconvert_exporter": "python",
   "pygments_lexer": "ipython3",
   "version": "3.7.12"
  }
 },
 "nbformat": 4,
 "nbformat_minor": 2
}
