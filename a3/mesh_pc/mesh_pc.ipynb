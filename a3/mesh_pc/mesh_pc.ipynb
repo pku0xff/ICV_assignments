{
 "cells": [
  {
   "cell_type": "code",
   "execution_count": 1,
   "metadata": {},
   "outputs": [],
   "source": [
    "import numpy as np\n",
    "import tqdm \n",
    "import trimesh"
   ]
  },
  {
   "cell_type": "code",
   "execution_count": 2,
   "metadata": {},
   "outputs": [],
   "source": [
    "def uniform_sampling_from_mesh(vertices, faces, sample_num):\n",
    "    '''\n",
    "    vertices: n个顶点\n",
    "    faces: n*3，3个点的序号\n",
    "    '''\n",
    "    # 1. compute area of each triangles\n",
    "    # 2. compute probability of each triangles from areas\n",
    "    # 3. sample N faces according to the probability\n",
    "    # 4. for each face, sample 1 point\n",
    "    # Note that FOR-LOOP is not allowed!\n",
    "    \n",
    "    # 1. compute area of each triangles\n",
    "    # 找出三角形的三个点\n",
    "    X = vertices[faces[:, 0]]\n",
    "    Y = vertices[faces[:, 1]]\n",
    "    Z = vertices[faces[:, 2]]\n",
    "    # 转换为三边\n",
    "    A = np.apply_along_axis(np.linalg.norm, -1, X-Y)\n",
    "    B = np.apply_along_axis(np.linalg.norm, -1, Y-Z)\n",
    "    C = np.apply_along_axis(np.linalg.norm, -1, Z-X)\n",
    "    # 海伦公式计算面积\n",
    "    P = (A + B + C) / 2\n",
    "    area = np.sqrt(P * (P-A) * (P-B) * (P-C))\n",
    "    # 2. compute probability of each triangles from areas\n",
    "    prob = area / np.sum(area)\n",
    "    # 3. sample N faces according to the probability\n",
    "    sampled_faces_idx = np.random.choice(np.arange(faces.shape[0]), size=sample_num, p=prob)\n",
    "    # 4. for each face, sample 1 point\n",
    "    sampled_X = vertices[faces[sampled_faces_idx, 0]]\n",
    "    sampled_Y = vertices[faces[sampled_faces_idx, 1]]\n",
    "    sampled_Z = vertices[faces[sampled_faces_idx, 2]]\n",
    "    array1 = sampled_Y - sampled_X\n",
    "    array2 = sampled_Z - sampled_X\n",
    "    weight1 = np.random.rand(array1.shape[0]) / 2\n",
    "    weight2 = np.random.rand(array2.shape[0]) / 2\n",
    "    uniform_pc = sampled_X + weight1.reshape((-1,1)) * array1 + weight2.reshape((-1,1)) * array2\n",
    "    return area, prob, uniform_pc\n"
   ]
  },
  {
   "cell_type": "code",
   "execution_count": 3,
   "metadata": {},
   "outputs": [],
   "source": [
    "from tqdm import trange\n",
    "\n",
    "def farthest_point_sampling(pc, sample_num):\n",
    "    # FOR LOOP is allowed here.\n",
    "    \n",
    "    PC1 = pc.reshape((pc.shape[0], 1, 3)) # (N,1,3)\n",
    "    PC2 = pc.reshape((1, pc.shape[0], 3))\n",
    "    dist = np.apply_along_axis(np.linalg.norm, -1, PC1-PC2) # (N,N)\n",
    "    # 1. 找一个起始点，加入初始点集S\n",
    "    S = np.random.choice(pc.shape[0],1)\n",
    "    # 2. 找到距离S最远的点，将其加入S，直到达到采样个数\n",
    "    # 这里每个循环中都算一遍距离太慢了，应该先计算所有点之间的距离，避免重复计算。\n",
    "    for i in range(sample_num-1):\n",
    "        dist_s = np.sum(dist[:,S], axis=-1)\n",
    "        idx = np.argmax(dist_s)\n",
    "        S = np.append(S, idx)\n",
    "    \n",
    "    results = pc[S]\n",
    "    return results\n"
   ]
  },
  {
   "cell_type": "code",
   "execution_count": 4,
   "metadata": {},
   "outputs": [
    {
     "name": "stdout",
     "output_type": "stream",
     "text": [
      "faces shape:  (13712, 3)\n",
      "area shape:  (13712,)\n",
      "prob shape:  (13712,)\n",
      "pc shape:  (512, 3)\n"
     ]
    },
    {
     "data": {
      "text/plain": [
       "'\\nOUTPUT:\\nfaces shape:  (13712, 3)\\narea shape:  (13712,)\\nprob shape:  (13712,)\\npc shape:  (512, 3)\\n'"
      ]
     },
     "execution_count": 4,
     "metadata": {},
     "output_type": "execute_result"
    }
   ],
   "source": [
    "# task 1: uniform sampling \n",
    "\n",
    "obj_path = 'spot.obj'\n",
    "mesh = trimesh.load(obj_path)\n",
    "print('faces shape: ', mesh.faces.shape)\n",
    "sample_num = 512\n",
    "area, prob, uniform_pc = uniform_sampling_from_mesh(mesh.vertices, mesh.faces, sample_num)\n",
    "\n",
    "# Visualization. For you to check your code\n",
    "np.savetxt('uniform_sampling_vis.txt', uniform_pc)\n",
    "\n",
    "print('area shape: ',area.shape)\n",
    "print('prob shape: ',prob.shape)\n",
    "print('pc shape: ',uniform_pc.shape)\n",
    "# the result should satisfy: \n",
    "#       area.shape = (13712, ) \n",
    "#       prob.shape = (13712, ) \n",
    "#       uniform_pc.shape = (512, 3) \n",
    "\n",
    "# For submission\n",
    "save_dict = {'area': area, 'prob': prob, 'pc': uniform_pc}\n",
    "np.save('../results/uniform_sampling_results', save_dict)\n",
    "'''\n",
    "OUTPUT:\n",
    "faces shape:  (13712, 3)\n",
    "area shape:  (13712,)\n",
    "prob shape:  (13712,)\n",
    "pc shape:  (512, 3)\n",
    "'''"
   ]
  },
  {
   "cell_type": "code",
   "execution_count": 5,
   "metadata": {},
   "outputs": [],
   "source": [
    "# task 2: FPS\n",
    "\n",
    "init_sample_num = 2000\n",
    "final_sample_num = 512\n",
    "_,_, tmp_pc = uniform_sampling_from_mesh(mesh.vertices, mesh.faces, init_sample_num)\n",
    "fps_pc = farthest_point_sampling(tmp_pc, final_sample_num)\n",
    "\n",
    "# Visualization. For you to check your code\n",
    "np.savetxt('fps_vis.txt', fps_pc)\n",
    "\n",
    "# For submission\n",
    "np.save('../results/fps_results', fps_pc)"
   ]
  },
  {
   "cell_type": "code",
   "execution_count": 6,
   "metadata": {},
   "outputs": [
    {
     "name": "stdout",
     "output_type": "stream",
     "text": [
      "(512, 3) (2000, 3)\n"
     ]
    },
    {
     "name": "stderr",
     "output_type": "stream",
     "text": [
      "\r",
      "  0%|                                                                                            | 0/5 [00:00<?, ?it/s]"
     ]
    },
    {
     "name": "stdout",
     "output_type": "stream",
     "text": [
      "Do uniform sampling...\n",
      "Do farthest point sampling...\n",
      "Compute CD...\n",
      "Compute EMD...\n"
     ]
    },
    {
     "name": "stderr",
     "output_type": "stream",
     "text": [
      "\r",
      " 20%|████████████████▌                                                                  | 1/5 [04:09<16:38, 249.60s/it]"
     ]
    },
    {
     "name": "stdout",
     "output_type": "stream",
     "text": [
      "Result: CD 2.317574241495713, EMD 2.241970597874175\n",
      "Iteration 0 cost 249.59579300880432 seconds.\n",
      "Do uniform sampling...\n",
      "Do farthest point sampling...\n",
      "Compute CD...\n",
      "Compute EMD...\n"
     ]
    },
    {
     "name": "stderr",
     "output_type": "stream",
     "text": [
      "\r",
      " 40%|█████████████████████████████████▏                                                 | 2/5 [08:26<12:41, 253.68s/it]"
     ]
    },
    {
     "name": "stdout",
     "output_type": "stream",
     "text": [
      "Result: CD 2.264513063558616, EMD 2.1869053519921753\n",
      "Iteration 1 cost 256.5435709953308 seconds.\n",
      "Do uniform sampling...\n",
      "Do farthest point sampling...\n",
      "Compute CD...\n",
      "Compute EMD...\n"
     ]
    },
    {
     "name": "stderr",
     "output_type": "stream",
     "text": [
      "\r",
      " 60%|█████████████████████████████████████████████████▊                                 | 3/5 [12:35<08:23, 251.77s/it]"
     ]
    },
    {
     "name": "stdout",
     "output_type": "stream",
     "text": [
      "Result: CD 2.3381654686281603, EMD 2.382991782154591\n",
      "Iteration 2 cost 249.48699498176575 seconds.\n",
      "Do uniform sampling...\n",
      "Do farthest point sampling...\n",
      "Compute CD...\n",
      "Compute EMD...\n"
     ]
    },
    {
     "name": "stderr",
     "output_type": "stream",
     "text": [
      "\r",
      " 80%|██████████████████████████████████████████████████████████████████▍                | 4/5 [16:43<04:10, 250.28s/it]"
     ]
    },
    {
     "name": "stdout",
     "output_type": "stream",
     "text": [
      "Result: CD 2.2631610777225193, EMD 2.2324813210372936\n",
      "Iteration 3 cost 247.98847818374634 seconds.\n",
      "Do uniform sampling...\n",
      "Do farthest point sampling...\n",
      "Compute CD...\n",
      "Compute EMD...\n"
     ]
    },
    {
     "name": "stderr",
     "output_type": "stream",
     "text": [
      "100%|███████████████████████████████████████████████████████████████████████████████████| 5/5 [20:49<00:00, 249.87s/it]"
     ]
    },
    {
     "name": "stdout",
     "output_type": "stream",
     "text": [
      "Result: CD 2.2025803242848503, EMD 2.3048623053403574\n",
      "Iteration 4 cost 245.72123885154724 seconds.\n",
      "Report: 2.277198835137972 0.002254602686687156 2.2698422716797184 2.2698422716797184\n"
     ]
    },
    {
     "name": "stderr",
     "output_type": "stream",
     "text": [
      "\n"
     ]
    }
   ],
   "source": [
    "# task 3: metrics\n",
    "# 直接把 earthmover.py 放在\n",
    "from earthmover import earthmover_distance   # EMD may be very slow (1~2mins)\n",
    "import time\n",
    "# -----------TODO---------------\n",
    "# compute chamfer distance and EMD for two point clouds sampled by uniform sampling and FPS.\n",
    "# sample and compute CD and EMD again. repeat for five times.\n",
    "# save the mean and var.\n",
    "# -----------TODO---------------\n",
    "# uniform_pc, tmp_pc\n",
    "print(uniform_pc.shape, tmp_pc.shape)\n",
    "def chamfer_distance(u_pc, t_pc):\n",
    "    U = np.tile(u_pc[:,np.newaxis,:], (1,t_pc.shape[0],1))\n",
    "    T = np.tile(t_pc[np.newaxis,:,:], (u_pc.shape[0],1,1))\n",
    "    dist = np.apply_along_axis(np.linalg.norm, 2, U-T) #(512,2000)\n",
    "    cd = np.sum(np.min(dist, axis=1)) / dist.shape[0] + np.sum(np.min(dist, axis=0)) / dist.shape[1]\n",
    "    return cd\n",
    "\n",
    "N = 5\n",
    "cd = np.zeros(N)\n",
    "emd = np.zeros(N)\n",
    "for i in trange(N):\n",
    "    t0 = time.time()\n",
    "    print('Do uniform sampling...')\n",
    "    area, prob, uniform_pc = uniform_sampling_from_mesh(mesh.vertices, mesh.faces, sample_num)\n",
    "    print('Do farthest point sampling...')\n",
    "    fps_pc = farthest_point_sampling(tmp_pc, final_sample_num)\n",
    "    print('Compute CD...')\n",
    "    cd[i] = chamfer_distance(uniform_pc, tmp_pc)\n",
    "    print('Compute EMD...')\n",
    "    emd[i] = earthmover_distance(uniform_pc, tmp_pc)\n",
    "    t1 = time.time()\n",
    "    print(f'Result: CD {cd[i]}, EMD {emd[i]}')\n",
    "    print(f'Iteration {i} cost {t1-t0} seconds.')\n",
    "\n",
    "\n",
    "CD_mean = np.mean(cd)\n",
    "CD_var = np.var(cd)\n",
    "EMD_mean = np.mean(emd)\n",
    "EMD_var = np.mean(emd)\n",
    "\n",
    "print('Report:', CD_mean, CD_var, EMD_mean, EMD_var)\n",
    "\n",
    "# For submission\n",
    "np.save('../results/metrics', {'CD_mean':CD_mean, 'CD_var':CD_var, 'EMD_mean':EMD_mean, 'EMD_var':EMD_var})"
   ]
  },
  {
   "cell_type": "code",
   "execution_count": null,
   "metadata": {},
   "outputs": [],
   "source": []
  }
 ],
 "metadata": {
  "interpreter": {
   "hash": "b99e030e7d8517218fe5297eb937f74701cfa6fd19eb7299fb48d65d491617c9"
  },
  "kernelspec": {
   "display_name": "Python 3 (ipykernel)",
   "language": "python",
   "name": "python3"
  },
  "language_info": {
   "codemirror_mode": {
    "name": "ipython",
    "version": 3
   },
   "file_extension": ".py",
   "mimetype": "text/x-python",
   "name": "python",
   "nbconvert_exporter": "python",
   "pygments_lexer": "ipython3",
   "version": "3.7.12"
  }
 },
 "nbformat": 4,
 "nbformat_minor": 2
}
